{
 "cells": [
  {
   "cell_type": "code",
   "execution_count": 2,
   "id": "805aca7a",
   "metadata": {},
   "outputs": [
    {
     "name": "stdout",
     "output_type": "stream",
     "text": [
      "Requirement already satisfied: pandas in ./opt/anaconda3/lib/python3.9/site-packages (1.4.4)\r\n",
      "Requirement already satisfied: python-dateutil>=2.8.1 in ./opt/anaconda3/lib/python3.9/site-packages (from pandas) (2.8.2)\r\n",
      "Requirement already satisfied: pytz>=2020.1 in ./opt/anaconda3/lib/python3.9/site-packages (from pandas) (2022.1)\r\n",
      "Requirement already satisfied: numpy>=1.18.5 in ./opt/anaconda3/lib/python3.9/site-packages (from pandas) (1.21.5)\r\n",
      "Requirement already satisfied: six>=1.5 in ./opt/anaconda3/lib/python3.9/site-packages (from python-dateutil>=2.8.1->pandas) (1.16.0)\r\n"
     ]
    }
   ],
   "source": [
    "!pip install pandas\n",
    "import pandas as pd"
   ]
  },
  {
   "cell_type": "code",
   "execution_count": 6,
   "id": "0ba83762",
   "metadata": {},
   "outputs": [
    {
     "name": "stdout",
     "output_type": "stream",
     "text": [
      "0     4\n",
      "1     8\n",
      "2    15\n",
      "3    16\n",
      "4    23\n",
      "5    42\n",
      "dtype: int64\n"
     ]
    }
   ],
   "source": [
    "#Q1\n",
    "s=[4,8,15,16,23,42]\n",
    "pd_s=pd.Series(s)\n",
    "print(pd_s)"
   ]
  },
  {
   "cell_type": "code",
   "execution_count": 8,
   "id": "2e6020ee",
   "metadata": {},
   "outputs": [
    {
     "name": "stdout",
     "output_type": "stream",
     "text": [
      "0     1\n",
      "1     2\n",
      "2     3\n",
      "3     4\n",
      "4     5\n",
      "5     6\n",
      "6     7\n",
      "7     8\n",
      "8     9\n",
      "9    10\n",
      "dtype: int64\n"
     ]
    }
   ],
   "source": [
    "#Q2\n",
    "s1=[1,2,3,4,5,6,7,8,9,10]\n",
    "pd_s1=pd.Series(s1)\n",
    "print(pd_s1)"
   ]
  },
  {
   "cell_type": "code",
   "execution_count": 11,
   "id": "44574294",
   "metadata": {},
   "outputs": [
    {
     "name": "stdout",
     "output_type": "stream",
     "text": [
      "     Name  Age  Gender\n",
      "0   Alice   25  Female\n",
      "1     Bob   30    Male\n",
      "2  Claire   27  Female\n"
     ]
    }
   ],
   "source": [
    "#Q3\n",
    "df={\"Name\":[\"Alice\",\"Bob\",\"Claire\"],\"Age\":[25,30,27],\"Gender\":[\"Female\",\"Male\",\"Female\"]}\n",
    "pd_df=pd.DataFrame(df)\n",
    "print(pd_df)"
   ]
  },
  {
   "cell_type": "code",
   "execution_count": 16,
   "id": "6bc95f9c",
   "metadata": {},
   "outputs": [
    {
     "name": "stdout",
     "output_type": "stream",
     "text": [
      "Eg. DataFrame\n",
      "     Name  Age  Gender\n",
      "0   Alice   25  Female\n",
      "1     Bob   30    Male\n",
      "2  Claire   27  Female\n",
      " Eg. Series\n",
      "0     1\n",
      "1     2\n",
      "2     3\n",
      "3     4\n",
      "4     5\n",
      "5     6\n",
      "6     7\n",
      "7     8\n",
      "8     9\n",
      "9    10\n",
      "dtype: int64\n"
     ]
    }
   ],
   "source": [
    "#Q4\n",
    "# A dataframe is a 2-dimensional datastructure consisting of rows and columns whereas \n",
    "# a series is a 1-dimensional arrays in pandas. A dataframe is a collection of series.\n",
    "print(\"Eg. DataFrame\")\n",
    "df1={\"Name\":[\"Alice\",\"Bob\",\"Claire\"],\"Age\":[25,30,27],\"Gender\":[\"Female\",\"Male\",\"Female\"]}\n",
    "pd_df1=pd.DataFrame(df1)\n",
    "print(pd_df1)\n",
    "print(end=\" \")\n",
    "print(\"Eg. Series\")\n",
    "s2=[1,2,3,4,5,6,7,8,9,10]\n",
    "pd_s2=pd.Series(s2)\n",
    "print(pd_s2)"
   ]
  },
  {
   "cell_type": "code",
   "execution_count": 25,
   "id": "1c15d49b",
   "metadata": {},
   "outputs": [
    {
     "name": "stdout",
     "output_type": "stream",
     "text": [
      "    Name  Age  Gender\n",
      "0  Alice   25  Female\n",
      "     Name  Age  Gender\n",
      "2  Claire   27  Female\n",
      "\n",
      " info() eg.\n",
      "<class 'pandas.core.frame.DataFrame'>\n",
      "RangeIndex: 3 entries, 0 to 2\n",
      "Data columns (total 3 columns):\n",
      " #   Column  Non-Null Count  Dtype \n",
      "---  ------  --------------  ----- \n",
      " 0   Name    3 non-null      object\n",
      " 1   Age     3 non-null      int64 \n",
      " 2   Gender  3 non-null      object\n",
      "dtypes: int64(1), object(2)\n",
      "memory usage: 200.0+ bytes\n",
      "None\n",
      "\n",
      " columns eg.\n",
      "Index(['Name', 'Age', 'Gender'], dtype='object')\n",
      "\n",
      " dtypes eg.\n",
      "Name      object\n",
      "Age        int64\n",
      "Gender    object\n",
      "dtype: object\n"
     ]
    }
   ],
   "source": [
    "#Q5\n",
    "#head() and tail(): These functions allow you to view the first few rows (head()) or the last few rows (tail()) of a DataFrame. \n",
    "print(pd_df1.head(1))\n",
    "print(pd_df1.tail(1))\n",
    "#info(): This function provides a summary of the DataFrame, including the column names, data types, and non-null values.\n",
    "print(\"\\n info() eg.\")\n",
    "print(pd_df1.info())\n",
    "#columns: This function allows to view the columns of the DataFrame.\n",
    "print(\"\\n columns eg.\")\n",
    "print(pd_df1.columns)\n",
    "#dtypes: This function provides us with the datatypes of the columns.\n",
    "print(\"\\n dtypes eg.\")\n",
    "print(pd_df1.dtypes)"
   ]
  },
  {
   "cell_type": "code",
   "execution_count": 26,
   "id": "172b70f5",
   "metadata": {},
   "outputs": [],
   "source": [
    "#Q6\n",
    "#Series and DataFrame are mutable, allowing modifications to their structure and contents.\n",
    "#Panel was a n-dimensional array which is no longer available in recent versions of python and it was considered as immutable."
   ]
  },
  {
   "cell_type": "code",
   "execution_count": 30,
   "id": "5b474e0b",
   "metadata": {},
   "outputs": [
    {
     "name": "stdout",
     "output_type": "stream",
     "text": [
      "     Name  Age  Gender\n",
      "0   Alice   25  Female\n",
      "1     Bob   30    Male\n",
      "2  Claire   27  Female\n"
     ]
    }
   ],
   "source": [
    "#Q7\n",
    "s2=pd.Series([\"Alice\",\"Bob\",\"Claire\"])\n",
    "s3=pd.Series([25,30,27])\n",
    "s4=pd.Series([\"Female\",\"Male\",\"Female\"])\n",
    "s5=pd.Series([\"Name\",\"Age\",\"Gender\"])\n",
    "pd_df2=pd.DataFrame({s5[0]:s2,s5[1]:s3,s5[2]:s4})\n",
    "print(pd_df2)"
   ]
  }
 ],
 "metadata": {
  "kernelspec": {
   "display_name": "Python 3 (ipykernel)",
   "language": "python",
   "name": "python3"
  },
  "language_info": {
   "codemirror_mode": {
    "name": "ipython",
    "version": 3
   },
   "file_extension": ".py",
   "mimetype": "text/x-python",
   "name": "python",
   "nbconvert_exporter": "python",
   "pygments_lexer": "ipython3",
   "version": "3.9.13"
  }
 },
 "nbformat": 4,
 "nbformat_minor": 5
}
